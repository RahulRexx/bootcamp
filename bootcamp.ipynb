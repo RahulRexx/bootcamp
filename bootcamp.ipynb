{
 "cells": [
  {
   "cell_type": "code",
   "execution_count": null,
   "metadata": {},
   "outputs": [],
   "source": []
  },
  {
   "cell_type": "code",
   "execution_count": null,
   "metadata": {},
   "outputs": [],
   "source": []
  },
  {
   "cell_type": "code",
   "execution_count": 11,
   "metadata": {},
   "outputs": [
    {
     "name": "stdout",
     "output_type": "stream",
     "text": [
      "1\n",
      "2\n",
      "3\n",
      "4\n",
      "mul=  24\n",
      "sum=  10\n",
      "0 1 2 3 "
     ]
    }
   ],
   "source": [
    "ar=[]\n",
    "for i in range(0,4):\n",
    "    a=int(input())\n",
    "    ar.append(a)\n",
    "    \n",
    "cnt=1\n",
    "su=0\n",
    "for i in range(0,4):\n",
    "    cnt=cnt*ar[i]\n",
    "    su=su+ar[i]\n",
    "print(\"mul= \",cnt)\n",
    "print(\"sum= \",su)\n",
    "# print(su)\n",
    "for i in range(0,4):\n",
    "    print(i,end=\" \")\n"
   ]
  },
  {
   "cell_type": "code",
   "execution_count": 15,
   "metadata": {},
   "outputs": [
    {
     "name": "stdout",
     "output_type": "stream",
     "text": [
      "1\n",
      "4\n",
      "5\n",
      "2\n",
      "12\n",
      "40\n",
      "3.0\n"
     ]
    }
   ],
   "source": [
    "def suu(ar):\n",
    "    su=0\n",
    "    for i in range(0,4):\n",
    "        su=su+ar[i]\n",
    "    return su\n",
    "def mul(ar):\n",
    "    cnt=1\n",
    "    for i in range(0,4):\n",
    "        cnt=cnt*ar[i]\n",
    "    return cnt\n",
    "        \n",
    "def avg(ar):\n",
    "    av=0\n",
    "    for i in range(0,4):\n",
    "        av=av+ar[i]\n",
    "    return av/4\n",
    "\n",
    "ar=[]\n",
    "for i in range(0,4):\n",
    "    a=int(input())\n",
    "    ar.append(a)\n",
    "print(suu(ar))\n",
    "print(mul(ar))\n",
    "print(avg(ar))\n",
    "        "
   ]
  },
  {
   "cell_type": "code",
   "execution_count": null,
   "metadata": {},
   "outputs": [],
   "source": [
    "\n"
   ]
  },
  {
   "cell_type": "code",
   "execution_count": 6,
   "metadata": {},
   "outputs": [
    {
     "name": "stdout",
     "output_type": "stream",
     "text": [
      "1\n",
      "+ve number 1\n",
      "7\n",
      "+ve number 343\n",
      "8\n",
      "+ve number 512\n",
      "1\n",
      "+ve number 1\n",
      "2\n",
      "+ve number 8\n"
     ]
    }
   ],
   "source": [
    "ar=[]\n",
    "for i in range(0,5):\n",
    "    a=int(input())\n",
    "    if(a<0):\n",
    "        print(\"-ve number\")\n",
    "    else:\n",
    "        print(\"+ve number\", a*a*a)\n",
    "\n"
   ]
  },
  {
   "cell_type": "code",
   "execution_count": 10,
   "metadata": {},
   "outputs": [
    {
     "name": "stdout",
     "output_type": "stream",
     "text": [
      "1 2 3 4 5 6 7  5\n"
     ]
    }
   ],
   "source": [
    "a=list(map(int,input().split()))"
   ]
  },
  {
   "cell_type": "code",
   "execution_count": 12,
   "metadata": {},
   "outputs": [
    {
     "name": "stdout",
     "output_type": "stream",
     "text": [
      "[<map object at 0x0000022CB4BE8CF8>]\n"
     ]
    }
   ],
   "source": [
    "print(a)"
   ]
  },
  {
   "cell_type": "code",
   "execution_count": 24,
   "metadata": {},
   "outputs": [
    {
     "name": "stdout",
     "output_type": "stream",
     "text": [
      "5\n",
      "71\n",
      "vals =  71\n"
     ]
    }
   ],
   "source": [
    "a=int(input())\n",
    "b=int(input())\n",
    "val=max(a,b)\n",
    "val2=min(a,b)\n",
    "ar=[0]*val\n",
    "ar[0]=1\n",
    "ar[1]=1\n",
    "ar[2]=0\n",
    "print(\"vals = \",val)\n",
    "for i in range(2,val):\n",
    "    if(ar[i]==0):\n",
    "        for j in range(i*i,val,i):\n",
    "            ar[j]=1\n",
    "            \n"
   ]
  },
  {
   "cell_type": "code",
   "execution_count": 23,
   "metadata": {},
   "outputs": [
    {
     "name": "stdout",
     "output_type": "stream",
     "text": [
      "5\n",
      "7\n",
      "11\n",
      "13\n",
      "17\n",
      "19\n",
      "23\n",
      "29\n",
      "31\n",
      "37\n",
      "41\n",
      "43\n",
      "47\n",
      "53\n",
      "59\n",
      "61\n",
      "67\n"
     ]
    }
   ],
   "source": [
    "for i in range(val2,val):\n",
    "    if(ar[i]==0):\n",
    "        print(i)"
   ]
  },
  {
   "cell_type": "code",
   "execution_count": 49,
   "metadata": {},
   "outputs": [
    {
     "name": "stdout",
     "output_type": "stream",
     "text": [
      "enter a value\n",
      "474\n",
      "[4, 7, 4]\n",
      "hello 1 hello 2 hello 3 hello 4 \n",
      "hello 1 hello 2 hello 3 hello 4 hello 5 hello 6 hello 7 \n",
      "hello 1 hello 2 hello 3 hello 4 \n"
     ]
    }
   ],
   "source": [
    "print(\"enter a value\")\n",
    "ar=[]\n",
    "a=int(input())\n",
    "while(a>0):\n",
    "    ar.append(a%10)\n",
    "    a=int(a/10)\n",
    "\n",
    "br=[]\n",
    "for i in range(len(ar)-1,0,-1):\n",
    "    br.append(ar[i])\n",
    "br.append(ar[0])\n",
    "print(br)\n",
    "\n",
    "for i in range(0,len(br)):\n",
    "    for j in range(0,br[i]):\n",
    "        print(\"hello\",j+1,end=\" \")\n",
    "    print()\n",
    "    "
   ]
  },
  {
   "cell_type": "code",
   "execution_count": 18,
   "metadata": {},
   "outputs": [
    {
     "name": "stdout",
     "output_type": "stream",
     "text": [
      "11\n",
      "middle seat 17\n"
     ]
    }
   ],
   "source": [
    "a=int(input())\n",
    "\n",
    "if(a%6==0 or (a+5)%6==0):\n",
    "    print(\"window seat\", a+6 )\n",
    "elif(a%3==0 or (a-1)%3==0):\n",
    "    print(\"aile seat\",a+6)\n",
    "else:\n",
    "    print(\"middle seat\",a+6)\n",
    "    "
   ]
  },
  {
   "cell_type": "code",
   "execution_count": 52,
   "metadata": {},
   "outputs": [
    {
     "name": "stdout",
     "output_type": "stream",
     "text": [
      "11121\n",
      "not palindrome\n"
     ]
    }
   ],
   "source": [
    "st=str(input())\n",
    "pt=\"\"\n",
    "for i in range(len(st)-1,0,-1):\n",
    "    pt=pt+st[i]\n",
    "pt=pt+st[0]\n",
    "\n",
    "# print(pt,\" \",st)\n",
    "if(st==pt):\n",
    "    print(\"palindrome\")\n",
    "else:\n",
    "    print(\"not palindrome\")\n",
    "    "
   ]
  },
  {
   "cell_type": "code",
   "execution_count": 41,
   "metadata": {},
   "outputs": [
    {
     "name": "stdout",
     "output_type": "stream",
     "text": [
      "1 2 3 4 5 \n",
      "  2 3 4 5 \n",
      "    3 4 5 \n",
      "      4 5 \n",
      "        5 \n"
     ]
    }
   ],
   "source": [
    "k=0\n",
    "cnt=0\n",
    "for i in range(5,0,-1):\n",
    "    for j in range(1,6):\n",
    "        cnt=cnt-1\n",
    "        if(cnt>=0):\n",
    "            print(\" \",end=\" \")\n",
    "        else:\n",
    "            print(j,end=\" \")\n",
    "    k=k+1\n",
    "    cnt=k\n",
    "    print()\n"
   ]
  },
  {
   "cell_type": "code",
   "execution_count": 61,
   "metadata": {},
   "outputs": [
    {
     "name": "stdout",
     "output_type": "stream",
     "text": [
      "10 5\n",
      "5\n"
     ]
    }
   ],
   "source": [
    "a=list(map(int,input().split()))\n",
    "sma=-1000\n",
    "lar=-1\n",
    "\n",
    "for i in range(0,len(a)):\n",
    "    if(a[i]>lar and sma<lar):\n",
    "        sma=lar\n",
    "        lar=a[i]\n",
    "    elif(lar>a[i]  and sma<a[i]):\n",
    "        sma=a[i]\n",
    "print(sma)"
   ]
  },
  {
   "cell_type": "code",
   "execution_count": 1,
   "metadata": {},
   "outputs": [
    {
     "data": {
      "text/plain": [
       "list"
      ]
     },
     "execution_count": 1,
     "metadata": {},
     "output_type": "execute_result"
    }
   ],
   "source": [
    "ar=[1,2,4,5]\n",
    "type(ar)"
   ]
  },
  {
   "cell_type": "code",
   "execution_count": 6,
   "metadata": {},
   "outputs": [
    {
     "data": {
      "text/plain": [
       "(1, 2, 3, 3, 5, 4, 2, 55)"
      ]
     },
     "execution_count": 6,
     "metadata": {},
     "output_type": "execute_result"
    }
   ],
   "source": [
    "x=(1,2,3)\n",
    "y=(3,5,4,2,55)\n",
    "x+y\n"
   ]
  },
  {
   "cell_type": "code",
   "execution_count": 5,
   "metadata": {},
   "outputs": [],
   "source": [
    "x=[12,24,43]\n",
    "x[0]=12"
   ]
  },
  {
   "cell_type": "code",
   "execution_count": 9,
   "metadata": {},
   "outputs": [
    {
     "data": {
      "text/plain": [
       "(1, 1, 1, 1)"
      ]
     },
     "execution_count": 9,
     "metadata": {},
     "output_type": "execute_result"
    }
   ],
   "source": [
    "x=(1,)*4\n",
    "x"
   ]
  },
  {
   "cell_type": "code",
   "execution_count": null,
   "metadata": {},
   "outputs": [],
   "source": [
    "functions of lis:\n",
    "    lis.append()\n",
    "    lis.extend()\n",
    "    lis.insert()"
   ]
  },
  {
   "cell_type": "code",
   "execution_count": 10,
   "metadata": {},
   "outputs": [],
   "source": [
    "y={1,1,1,1,2,3,4}  #declearance of set"
   ]
  },
  {
   "cell_type": "code",
   "execution_count": 11,
   "metadata": {},
   "outputs": [
    {
     "data": {
      "text/plain": [
       "{1, 2, 3, 4}"
      ]
     },
     "execution_count": 11,
     "metadata": {},
     "output_type": "execute_result"
    }
   ],
   "source": [
    "y"
   ]
  },
  {
   "cell_type": "code",
   "execution_count": 12,
   "metadata": {},
   "outputs": [],
   "source": [
    "ar=dict()\n",
    "ar={\"name\" : \"rahul \", \"branch\" : \"cse\"}"
   ]
  },
  {
   "cell_type": "code",
   "execution_count": 34,
   "metadata": {},
   "outputs": [],
   "source": [
    "ar=dict(name = \"ffsaf\",branch=\"cse\")"
   ]
  },
  {
   "cell_type": "code",
   "execution_count": 35,
   "metadata": {},
   "outputs": [
    {
     "data": {
      "text/plain": [
       "dict_keys(['name', 'branch'])"
      ]
     },
     "execution_count": 35,
     "metadata": {},
     "output_type": "execute_result"
    }
   ],
   "source": [
    "ar.keys()"
   ]
  },
  {
   "cell_type": "code",
   "execution_count": 36,
   "metadata": {},
   "outputs": [
    {
     "data": {
      "text/plain": [
       "dict_items([('name', 'ffsaf'), ('branch', 'cse')])"
      ]
     },
     "execution_count": 36,
     "metadata": {},
     "output_type": "execute_result"
    }
   ],
   "source": [
    "ar.items()"
   ]
  },
  {
   "cell_type": "code",
   "execution_count": 38,
   "metadata": {},
   "outputs": [
    {
     "data": {
      "text/plain": [
       "dict_values(['ffsaf', 'cse'])"
      ]
     },
     "execution_count": 38,
     "metadata": {},
     "output_type": "execute_result"
    }
   ],
   "source": [
    "ar.values()"
   ]
  },
  {
   "cell_type": "code",
   "execution_count": 27,
   "metadata": {},
   "outputs": [],
   "source": [
    "ar={\"name \" : \" rahul\"}"
   ]
  },
  {
   "cell_type": "code",
   "execution_count": 28,
   "metadata": {},
   "outputs": [
    {
     "data": {
      "text/plain": [
       "<function dict.keys>"
      ]
     },
     "execution_count": 28,
     "metadata": {},
     "output_type": "execute_result"
    }
   ],
   "source": [
    "ar.keys"
   ]
  },
  {
   "cell_type": "code",
   "execution_count": 29,
   "metadata": {},
   "outputs": [],
   "source": [
    "thisdict = {\n",
    "  \"brand\": \"Ford\",\n",
    "  \"model\": \"Mustang\",\n",
    "  \"year\": 1964\n",
    "}"
   ]
  },
  {
   "cell_type": "code",
   "execution_count": 31,
   "metadata": {},
   "outputs": [
    {
     "data": {
      "text/plain": [
       "dict_keys(['brand', 'model', 'year'])"
      ]
     },
     "execution_count": 31,
     "metadata": {},
     "output_type": "execute_result"
    }
   ],
   "source": [
    "thisdict.keys()"
   ]
  },
  {
   "cell_type": "code",
   "execution_count": 39,
   "metadata": {},
   "outputs": [
    {
     "data": {
      "text/plain": [
       "{'name': 'ffsaf', 'branch': 'cse'}"
      ]
     },
     "execution_count": 39,
     "metadata": {},
     "output_type": "execute_result"
    }
   ],
   "source": [
    "ar"
   ]
  },
  {
   "cell_type": "code",
   "execution_count": 42,
   "metadata": {},
   "outputs": [
    {
     "data": {
      "text/plain": [
       "'ffsaf'"
      ]
     },
     "execution_count": 42,
     "metadata": {},
     "output_type": "execute_result"
    }
   ],
   "source": [
    "ar.pop(\"name\")"
   ]
  },
  {
   "cell_type": "code",
   "execution_count": 44,
   "metadata": {},
   "outputs": [],
   "source": [
    "ar.update(afa  = \"fsdad\")"
   ]
  },
  {
   "cell_type": "code",
   "execution_count": 45,
   "metadata": {},
   "outputs": [
    {
     "data": {
      "text/plain": [
       "{'branch': 'cse', 'afa': 'fsdad'}"
      ]
     },
     "execution_count": 45,
     "metadata": {},
     "output_type": "execute_result"
    }
   ],
   "source": [
    "ar"
   ]
  },
  {
   "cell_type": "code",
   "execution_count": 48,
   "metadata": {},
   "outputs": [],
   "source": [
    "thisdict.update(afa = \"sdafad\")"
   ]
  },
  {
   "cell_type": "code",
   "execution_count": null,
   "metadata": {},
   "outputs": [],
   "source": [
    "map<recursive problem>\n",
    "listoflist problem \n",
    "lambda function\n",
    "map with lambda"
   ]
  },
  {
   "cell_type": "code",
   "execution_count": 114,
   "metadata": {},
   "outputs": [
    {
     "name": "stdout",
     "output_type": "stream",
     "text": [
      "1\n",
      "12 54\n",
      "66\n"
     ]
    }
   ],
   "source": [
    "def rev(num):\n",
    "    res=0\n",
    "    while(num>0):\n",
    "        res=res*10+(num%10)\n",
    "        num=int(num/10)\n",
    "    return res\n",
    " \n",
    "\n",
    "t=int(input())\n",
    "for i in range(0,t):\n",
    "    a,b=list(map(int,input().split()))\n",
    "    c=rev(a)\n",
    "    d=rev(b)\n",
    "    e=c+d\n",
    "    ans=rev(e)\n",
    "    print(ans)"
   ]
  },
  {
   "cell_type": "code",
   "execution_count": 8,
   "metadata": {},
   "outputs": [
    {
     "name": "stdout",
     "output_type": "stream",
     "text": [
      "4\n",
      "1\n",
      "1\n",
      "2\n",
      "2\n",
      "5\n",
      "120\n",
      "3\n",
      "6\n"
     ]
    }
   ],
   "source": [
    "t=int(input())\n",
    "for i in range(0,t):\n",
    "    a=int(input())\n",
    "    ans=1\n",
    "    for j in range(1,a+1):\n",
    "        ans=ans*j\n",
    "    print(ans)\n",
    "        "
   ]
  },
  {
   "cell_type": "code",
   "execution_count": 16,
   "metadata": {},
   "outputs": [
    {
     "name": "stdout",
     "output_type": "stream",
     "text": [
      "1 2 3 2 1 2 3 \n",
      "1 2 3 "
     ]
    }
   ],
   "source": [
    "a=list(map(int,input().split()))\n",
    "br=[]\n",
    "ar=dict()\n",
    "for i in range(len(a)-1,-1,-1):\n",
    "#     print(a[i])\n",
    "    if(a[i] not in ar.keys()):\n",
    "        br.append(a[i])\n",
    "        ar[a[i]]=1;\n",
    "#     if(ar[a[i]]>=1):\n",
    "#     else:\n",
    "#         br.append(a[i])\n",
    "#         ar[a[i]]=ar[a[i]]+1\n",
    "for i in range(len(br)-1,-1,-1):\n",
    "    print(br[i],end=\" \")\n",
    "        \n",
    "        \n",
    "    \n",
    "    "
   ]
  },
  {
   "cell_type": "code",
   "execution_count": 24,
   "metadata": {},
   "outputs": [
    {
     "name": "stdout",
     "output_type": "stream",
     "text": [
      "ffadfYhN\n",
      "FFADFyHn\n",
      "nHyFDAFF"
     ]
    }
   ],
   "source": [
    "st=str(input())\n",
    "pt=\"\"\n",
    "for i in range(0,len(st)):\n",
    "    if(st[i].islower()):\n",
    "        pt=pt+st[i].upper()\n",
    "    else:\n",
    "        pt=pt+st[i].lower() \n",
    "        \n",
    "print(pt)\n",
    "for i in range(len(pt)-1,-1,-1):\n",
    "    print(pt[i],end=\"\")\n",
    "        "
   ]
  },
  {
   "cell_type": "code",
   "execution_count": 30,
   "metadata": {},
   "outputs": [
    {
     "name": "stdout",
     "output_type": "stream",
     "text": [
      "this is a very good man\n",
      "{'name': 'John', 'id': 101, 'age': 22}\n",
      "__main__\n"
     ]
    }
   ],
   "source": [
    "class Student:  \n",
    "    '''this is a very good man'''\n",
    "    def __init__(self,name,id,age):  \n",
    "        self.name = name;  \n",
    "        self.id = id;  \n",
    "        self.age = age  \n",
    "    def display_details(self):  \n",
    "        print(\"Name:%s, ID:%d, age:%d\"%(self.name,self.id))  \n",
    "s = Student(\"John\",101,22)  \n",
    "print(s.__doc__)  \n",
    "print(s.__dict__)  \n",
    "print(s.__module__)  \n",
    "# print(s.__name__)"
   ]
  },
  {
   "cell_type": "code",
   "execution_count": 46,
   "metadata": {},
   "outputs": [
    {
     "name": "stdout",
     "output_type": "stream",
     "text": [
      "here it goes first\n",
      "here it goes first\n",
      "The number of employees 2\n"
     ]
    }
   ],
   "source": [
    "##abstraction feature --achieved through two __ prefixes\n",
    "\n",
    "\n",
    "\n",
    "class Employee:  \n",
    "    __count = 0; \n",
    "    save=112\n",
    "    def __init__(self):  \n",
    "        print(\"here it goes first\")\n",
    "        Employee.__count = Employee.__count+1  \n",
    "    def display(self):  \n",
    "        print(\"The number of employees\",Employee.__count)  \n",
    "emp = Employee()  \n",
    "emp2 = Employee()  \n",
    " \n",
    "    \n",
    "emp.display()\n",
    "# emp.__count\n",
    "\n"
   ]
  },
  {
   "cell_type": "code",
   "execution_count": 56,
   "metadata": {},
   "outputs": [
    {
     "data": {
      "text/plain": [
       "[0, 2, 4, 6, 8, 10, 12, 14, 16]"
      ]
     },
     "execution_count": 56,
     "metadata": {},
     "output_type": "execute_result"
    }
   ],
   "source": [
    "ar=[]\n",
    "for i in range(0,17):\n",
    "    ar.append(i)\n",
    "type(ar)\n",
    "ar[::2]"
   ]
  },
  {
   "cell_type": "code",
   "execution_count": null,
   "metadata": {},
   "outputs": [],
   "source": []
  },
  {
   "cell_type": "code",
   "execution_count": 57,
   "metadata": {},
   "outputs": [],
   "source": [
    "ar=[[1,2,3],[4,5,6],[7,8,9]]"
   ]
  },
  {
   "cell_type": "code",
   "execution_count": 60,
   "metadata": {},
   "outputs": [
    {
     "data": {
      "text/plain": [
       "list"
      ]
     },
     "execution_count": 60,
     "metadata": {},
     "output_type": "execute_result"
    }
   ],
   "source": [
    "type(ar)"
   ]
  },
  {
   "cell_type": "code",
   "execution_count": null,
   "metadata": {},
   "outputs": [],
   "source": []
  },
  {
   "cell_type": "code",
   "execution_count": null,
   "metadata": {},
   "outputs": [],
   "source": []
  },
  {
   "cell_type": "code",
   "execution_count": null,
   "metadata": {},
   "outputs": [],
   "source": []
  },
  {
   "cell_type": "code",
   "execution_count": null,
   "metadata": {},
   "outputs": [],
   "source": []
  },
  {
   "cell_type": "code",
   "execution_count": null,
   "metadata": {},
   "outputs": [],
   "source": []
  },
  {
   "cell_type": "code",
   "execution_count": null,
   "metadata": {},
   "outputs": [],
   "source": []
  },
  {
   "cell_type": "code",
   "execution_count": 82,
   "metadata": {},
   "outputs": [
    {
     "name": "stdout",
     "output_type": "stream",
     "text": [
      "this is rahul and sourav\n",
      "this is rahul and sourav\n"
     ]
    }
   ],
   "source": [
    "def __rahul(*args):\n",
    "    print(\"this is rahul and sourav\")\n",
    "    \n",
    "__rahul()\n",
    "__rahul()"
   ]
  },
  {
   "cell_type": "code",
   "execution_count": null,
   "metadata": {},
   "outputs": [],
   "source": []
  },
  {
   "cell_type": "code",
   "execution_count": null,
   "metadata": {},
   "outputs": [],
   "source": []
  },
  {
   "cell_type": "code",
   "execution_count": null,
   "metadata": {},
   "outputs": [],
   "source": []
  },
  {
   "cell_type": "code",
   "execution_count": null,
   "metadata": {},
   "outputs": [],
   "source": []
  },
  {
   "cell_type": "code",
   "execution_count": null,
   "metadata": {},
   "outputs": [],
   "source": []
  },
  {
   "cell_type": "code",
   "execution_count": null,
   "metadata": {},
   "outputs": [],
   "source": []
  },
  {
   "cell_type": "code",
   "execution_count": null,
   "metadata": {},
   "outputs": [],
   "source": []
  },
  {
   "cell_type": "code",
   "execution_count": 14,
   "metadata": {},
   "outputs": [
    {
     "data": {
      "text/plain": [
       "dict"
      ]
     },
     "execution_count": 14,
     "metadata": {},
     "output_type": "execute_result"
    }
   ],
   "source": [
    "type(data)"
   ]
  },
  {
   "cell_type": "code",
   "execution_count": 97,
   "metadata": {},
   "outputs": [
    {
     "name": "stdout",
     "output_type": "stream",
     "text": [
      "<class 'list'>\n",
      "<class 'numpy.ndarray'>\n"
     ]
    }
   ],
   "source": [
    "import numpy as np\n",
    "ls=[12,3,4,5,6,5,4]\n",
    "print(type(ls))\n",
    "a=np.array(ls)\n",
    "print(type(a))"
   ]
  },
  {
   "cell_type": "code",
   "execution_count": 2,
   "metadata": {},
   "outputs": [
    {
     "name": "stdout",
     "output_type": "stream",
     "text": [
      "dict_values(['equal', {'op': 'add', 'lhs': 1, 'rhs': {'op': 'multiply', 'lhs': 'x', 'rhs': 10}}, 21])\n",
      "<class 'dict'>\n"
     ]
    }
   ],
   "source": [
    "import json\n",
    "f = open(\"C:\\\\Users\\\\RAHUL\\\\Desktop\\\\data.txt\", \"r\")\n",
    "data=json.load(f)\n",
    "# print(type(data))\n",
    "print(data.values())\n",
    "print(type(data['lhs']))"
   ]
  },
  {
   "cell_type": "code",
   "execution_count": 3,
   "metadata": {},
   "outputs": [
    {
     "data": {
      "text/plain": [
       "'  1 add  x multiply 10 equal 21'"
      ]
     },
     "execution_count": 3,
     "metadata": {},
     "output_type": "execute_result"
    }
   ],
   "source": [
    "def recur(data):\n",
    "    st=\"\"\n",
    "    if(type(data['lhs'])==dict):\n",
    "        a=recur(data[\"lhs\"])\n",
    "        st=st+\" \"+str(a)\n",
    "    else:\n",
    "        st=st+\" \"+str(data['lhs']) \n",
    "        \n",
    "    st=st+\" \"+str(data['op'])\n",
    "    \n",
    "    if(type(data['rhs'])==dict):\n",
    "        b=recur(data['rhs'])\n",
    "        st=st+\" \"+str(b)\n",
    "    else:\n",
    "        st=st+\" \"+str(data['rhs'])\n",
    "    return st\n",
    "   \n",
    "    \n",
    "    \n",
    "recur(data)       "
   ]
  },
  {
   "cell_type": "code",
   "execution_count": null,
   "metadata": {},
   "outputs": [],
   "source": [
    "\n"
   ]
  },
  {
   "cell_type": "code",
   "execution_count": null,
   "metadata": {},
   "outputs": [],
   "source": []
  },
  {
   "cell_type": "markdown",
   "metadata": {},
   "source": [
    "##     This is used for extraction of Gmail and Number from a PDF\n"
   ]
  },
  {
   "cell_type": "code",
   "execution_count": 74,
   "metadata": {},
   "outputs": [
    {
     "name": "stdout",
     "output_type": "stream",
     "text": [
      "Email is =  ['abhinavk.grd@gmail.com'] \n",
      "Number is =  ['8797298558']\n"
     ]
    }
   ],
   "source": [
    "from pdfminer.pdfinterp import PDFResourceManager, PDFPageInterpreter#process_pdf\n",
    "from pdfminer.pdfpage import PDFPage\n",
    "from pdfminer.converter import TextConverter\n",
    "from pdfminer.layout import LAParams\n",
    "from io import StringIO\n",
    "import re\n",
    "\n",
    "def pdf_to_text(pdfname):\n",
    "\n",
    "    # PDFMiner boilerplate\n",
    "    rsrcmgr = PDFResourceManager()\n",
    "    sio = StringIO()\n",
    "    codec = 'utf-8'\n",
    "    laparams = LAParams()\n",
    "    device = TextConverter(rsrcmgr, sio, laparams=laparams)\n",
    "    interpreter = PDFPageInterpreter(rsrcmgr, device)\n",
    "\n",
    "    # Extract text\n",
    "    fp= open(pdfname, 'rb')\n",
    "    for page in PDFPage.get_pages(fp):\n",
    "        interpreter.process_page(page)\n",
    "    fp.close()\n",
    "\n",
    "    # Get text from StringIO\n",
    "    text = sio.getvalue()\n",
    "\n",
    "    # Cleanup\n",
    "    device.close()\n",
    "    sio.close()\n",
    "\n",
    "    return text\n",
    "\n",
    "text = pdf_to_text(\"C:\\\\Users\\\\RAHUL\\\\Desktop\\\\betwa.pdf\")\n",
    "\n",
    "\n",
    "ls=list(re.split(\"\\s\",text))\n",
    "newlist=[]\n",
    "\n",
    "for i in range(len(ls)):\n",
    "    if(len(ls[i])>1):\n",
    "        newlist.append(ls[i])\n",
    "substring=\"@gmail.com\"\n",
    "email=[]\n",
    "number=[]\n",
    "for i in range(0,len(newlist)):\n",
    "    if(re.search(substring,newlist[i])):\n",
    "        if(newlist[i][len(newlist[i])-1]!='m'):\n",
    "            newlist[i]=newlist[i][:-1]\n",
    "        email.append(newlist[i])\n",
    "    if(newlist[i][1:].isdigit() and len(newlist[i][1:])>=10 and len(newlist[i][1:])<13):\n",
    "        number.append(newlist[i])\n",
    "    if(newlist[i].isdigit() and len(newlist[i])==10):\n",
    "        number.append(newlist[i])\n",
    "        \n",
    "print(\"Email is = \",email,\"\\nNumber is = \",number)"
   ]
  },
  {
   "cell_type": "markdown",
   "metadata": {},
   "source": [
    "\n",
    "#DAY 3 PTHON ASSIGNMENT\n"
   ]
  },
  {
   "cell_type": "code",
   "execution_count": 152,
   "metadata": {},
   "outputs": [
    {
     "name": "stdout",
     "output_type": "stream",
     "text": [
      "Enter number of values in input list4\n",
      "fadfhakjsdf\n",
      "raah\n",
      "raar\n",
      "rafhfdjka\n",
      "['fadfhakjsdf', 'raar']\n"
     ]
    }
   ],
   "source": [
    "#1\n",
    "st=[]\n",
    "n=int(input(\"Enter number of values in input list\"))\n",
    "for i in range(0,n):\n",
    "    a=(input())\n",
    "    if(len(a)>=2 and a[0]==a[len(a)-1]):\n",
    "        st.append(a)\n",
    "print(st)\n",
    "        \n",
    "    \n",
    "\n",
    "    \n"
   ]
  },
  {
   "cell_type": "code",
   "execution_count": 179,
   "metadata": {},
   "outputs": [
    {
     "data": {
      "text/plain": [
       "[35, 46, 26, 8]"
      ]
     },
     "execution_count": 179,
     "metadata": {},
     "output_type": "execute_result"
    }
   ],
   "source": [
    "\n",
    "#2\n",
    "lis1=[12,3,4,5,6]\n",
    "list2=[23,43,22,3]\n",
    "list(map(lambda x,y: x+y ,lis1,list2))\n"
   ]
  },
  {
   "cell_type": "code",
   "execution_count": 165,
   "metadata": {},
   "outputs": [
    {
     "name": "stdout",
     "output_type": "stream",
     "text": [
      "15   225\n",
      "14   196\n",
      "13   169\n",
      "12   144\n",
      "11   121\n",
      "10   100\n",
      "9   81\n",
      "8   64\n",
      "7   49\n",
      "6   36\n",
      "5   25\n",
      "4   16\n",
      "3   9\n",
      "2   4\n",
      "1   1\n",
      "0   0\n"
     ]
    }
   ],
   "source": [
    "#3\n",
    "a=dict()\n",
    "for i in range(15,-1,-1):\n",
    "    a[i]=i*i\n",
    "for i,j in a.items():\n",
    "    print(i,\" \",j)"
   ]
  },
  {
   "cell_type": "code",
   "execution_count": 166,
   "metadata": {},
   "outputs": [
    {
     "name": "stdout",
     "output_type": "stream",
     "text": [
      "Enter the value of n 4\n",
      "1\n",
      "2\n",
      "3\n",
      "1\n",
      "2 3 "
     ]
    }
   ],
   "source": [
    "#4\n",
    "a=int(input(\"Enter the value of n \"))\n",
    "b=dict()\n",
    "for i in range(0,a):\n",
    "    c=int(input())\n",
    "    if c not in b.keys():\n",
    "        b[c]=1\n",
    "    else:\n",
    "        b[c]=b[c]+1\n",
    "for i,j in b.items():\n",
    "    if(j==1):\n",
    "        print(i,end=\" \")"
   ]
  },
  {
   "cell_type": "code",
   "execution_count": 178,
   "metadata": {},
   "outputs": [
    {
     "name": "stdout",
     "output_type": "stream",
     "text": [
      "Enter Number of items in the shop1\n",
      "Enter the Items and its quantities\n",
      "fsdfa\n",
      "2\n",
      "fsdfa\n"
     ]
    }
   ],
   "source": [
    "#5\n",
    "a=dict()\n",
    "n=int(input(\"Enter Number of items in the shop\"))\n",
    "print(\"Enter the Items and its quantities\")\n",
    "for i in range(0,n):\n",
    "    \n",
    "    b=input()\n",
    "    c=input()\n",
    "    a[b]=c\n",
    "key=list(a.keys())\n",
    "val=list(a.values())\n",
    "\n",
    "cnt=0\n",
    "for i in sorted(a.values(),reverse=True):\n",
    "    cnt=cnt+1;\n",
    "    \n",
    "    print(key[val.index(i)])\n",
    "    if(cnt==3):\n",
    "        break;\n",
    "    \n",
    "\n"
   ]
  },
  {
   "cell_type": "code",
   "execution_count": 216,
   "metadata": {},
   "outputs": [
    {
     "name": "stdout",
     "output_type": "stream",
     "text": [
      "{1: 4, 5: 3, 3: 7}\n"
     ]
    }
   ],
   "source": [
    "#6\n",
    "a={1 :[2,3,4,5],5:[1,2,3],3:[1,23,4,5,6,7,3]}\n",
    "dic=dict(map(lambda x:(x[0],len(x[1])),a.items()))\n",
    "print(dic)\n",
    "# for i,j in a.items():\n",
    "#     a[i]=len(j)\n",
    "# print(a)"
   ]
  },
  {
   "cell_type": "code",
   "execution_count": 219,
   "metadata": {},
   "outputs": [
    {
     "name": "stdout",
     "output_type": "stream",
     "text": [
      "{1: 3.5, 5: 2.0, 3: 7.0}\n"
     ]
    }
   ],
   "source": [
    "#7\n",
    "\n",
    "def mean(abc):\n",
    "    cnt=0;\n",
    "    for i in range(0,len(abc)):\n",
    "        cnt=cnt+abc[i]\n",
    "    return cnt/len(abc)\n",
    "a={1 :[2,3,4,5],5:[1,2,3],3:[1,23,4,5,6,7,3]}\n",
    "for i,j in a.items():\n",
    "    if(type(j)==list):\n",
    "        a[i]=mean(j)\n",
    "print(a)"
   ]
  },
  {
   "cell_type": "code",
   "execution_count": 209,
   "metadata": {},
   "outputs": [
    {
     "name": "stdout",
     "output_type": "stream",
     "text": [
      "EnTER the index of the item to be removed4\n",
      "(1, 2, 4, 44, 5, 67, 654)\n"
     ]
    }
   ],
   "source": [
    "#8\n",
    "a=(1,2,4,5,44,5,67,654)\n",
    "type(a)\n",
    "n=int(input(\"EnTER the index of the item to be removed\"))\n",
    "a=a[:n-1]+a[n:]\n",
    "print(a)"
   ]
  },
  {
   "cell_type": "code",
   "execution_count": 210,
   "metadata": {},
   "outputs": [
    {
     "name": "stdout",
     "output_type": "stream",
     "text": [
      "aba mallam "
     ]
    }
   ],
   "source": [
    "#9\n",
    "def palindrome(st):\n",
    "    pt=\"\"\n",
    "    for i in range(len(st)-1,-1,-1):\n",
    "        pt=pt+st[i]\n",
    "    if(pt==st):\n",
    "        return True\n",
    "    else:\n",
    "        return False\n",
    "    \n",
    "sta=['aba','fafdafa','mallam','booooba']\n",
    "for i in sta:\n",
    "    if(palindrome(i)):\n",
    "        print(i,end=\" \")"
   ]
  },
  {
   "cell_type": "code",
   "execution_count": 8,
   "metadata": {},
   "outputs": [
    {
     "name": "stdout",
     "output_type": "stream",
     "text": [
      "{2: 2, 5: 5, 6: 6}\n"
     ]
    }
   ],
   "source": [
    "#10\n",
    "dic={1:-1,2:2,3:-3,4:-4,5:5,6:6}\n",
    "newdic=dict(filter(lambda x:( x[1]>0),dic.items()))\n",
    "print(newdic)"
   ]
  },
  {
   "cell_type": "code",
   "execution_count": 230,
   "metadata": {},
   "outputs": [
    {
     "data": {
      "text/plain": [
       "['rahul', 'shivulam']"
      ]
     },
     "execution_count": 230,
     "metadata": {},
     "output_type": "execute_result"
    }
   ],
   "source": [
    "#11\n",
    "import re\n",
    "lis=['rahul','shivulam','betwa','sourav']\n",
    "dic=list(filter(lambda a : re.search('ul',a),lis))\n",
    "dic"
   ]
  },
  {
   "cell_type": "code",
   "execution_count": null,
   "metadata": {},
   "outputs": [],
   "source": []
  }
 ],
 "metadata": {
  "kernelspec": {
   "display_name": "Python 3",
   "language": "python",
   "name": "python3"
  },
  "language_info": {
   "codemirror_mode": {
    "name": "ipython",
    "version": 3
   },
   "file_extension": ".py",
   "mimetype": "text/x-python",
   "name": "python",
   "nbconvert_exporter": "python",
   "pygments_lexer": "ipython3",
   "version": "3.6.8"
  }
 },
 "nbformat": 4,
 "nbformat_minor": 2
}
